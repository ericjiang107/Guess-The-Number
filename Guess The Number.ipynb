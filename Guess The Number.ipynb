{
 "cells": [
  {
   "cell_type": "code",
   "execution_count": 12,
   "id": "c1ee777e",
   "metadata": {},
   "outputs": [],
   "source": [
    "# Creation of guessing game\n",
    "import random\n",
    "\n",
    "class anothergame():\n",
    "    def __init__(self):\n",
    "        self.numbers = [0, 1, 2, 3, 4, 5, 6, 7, 8, 9, 10, 11, 12, 13, 14, 15]\n",
    "\n",
    "    def Number(self):\n",
    "        random_num = random.choice(self.numbers)\n",
    "        return random_num\n",
    "\n",
    "# Testing computer randomizer\n",
    "# testing = anothergame()\n",
    "# print(testing.Number())\n",
    "\n",
    "    def player(self):\n",
    "        guess = int(input(\"Please enter a number between 0-15: \"))\n",
    "        print(f'The number you have chosen is: {guess}')\n",
    "        return guess\n",
    "    \n",
    "# Testing player number\n",
    "# testing = anothergame()\n",
    "# testing.player()\n",
    "\n",
    "    def check(self, random_num, guess):\n",
    "        if guess != random_num:\n",
    "            print(f'Sorry, your guess: ({guess}) is not correct')\n",
    "        elif guess == random_num:\n",
    "            print(f'Congradulations!, your guess: ({guess}) matches the computers of: ({random_num})')\n",
    "    "
   ]
  },
  {
   "cell_type": "code",
   "execution_count": 20,
   "id": "1597d504",
   "metadata": {},
   "outputs": [
    {
     "name": "stdout",
     "output_type": "stream",
     "text": [
      "Please enter 's' to start, 'c' to continue or 'g' to give up or quit: s\n",
      "Please enter a number between 0-15: 1\n",
      "The number you have chosen is: 1\n",
      "Sorry, your guess: (1) is not correct\n",
      "Please enter 's' to start, 'c' to continue or 'g' to give up or quit: c\n",
      "Please enter a number between 0-15: 2\n",
      "The number you have chosen is: 2\n",
      "Sorry, your guess: (2) is not correct\n",
      "Please enter 's' to start, 'c' to continue or 'g' to give up or quit: c\n",
      "Please enter a number between 0-15: 5\n",
      "The number you have chosen is: 5\n",
      "Sorry, your guess: (5) is not correct\n",
      "Please enter 's' to start, 'c' to continue or 'g' to give up or quit: c\n",
      "Please enter a number between 0-15: 4\n",
      "The number you have chosen is: 4\n",
      "Sorry, your guess: (4) is not correct\n",
      "Please enter 's' to start, 'c' to continue or 'g' to give up or quit: sds\n",
      "Sorry, that is not a valid response, please try again\n",
      "Please enter 's' to start, 'c' to continue or 'g' to give up or quit: c\n",
      "Please enter a number between 0-15: 7\n",
      "The number you have chosen is: 7\n",
      "Congradulations!, your guess: (7) matches the computers of: (7)\n",
      "Please enter 's' to start, 'c' to continue or 'g' to give up or quit: g\n",
      "Thank you for playing!\n"
     ]
    }
   ],
   "source": [
    "def trial():\n",
    "    start_trial = anothergame()\n",
    "    while True:\n",
    "        response = input(\"Please enter 's' to start, 'c' to continue or 'g' to give up or quit: \")\n",
    "        if response.lower() == \"s\":\n",
    "            x = start_trial.Number()\n",
    "            y = start_trial.player()\n",
    "            start_trial.check(x, y)\n",
    "        elif response.lower() == \"g\":\n",
    "            print(f\"Thank you for playing!\")\n",
    "            break\n",
    "        elif response.lower() == \"c\":\n",
    "            y = start_trial.player()\n",
    "            start_trial.check(x, y)\n",
    "        else:\n",
    "            print(\"Sorry, that is not a valid response, please try again\")\n",
    "trial() "
   ]
  },
  {
   "cell_type": "code",
   "execution_count": null,
   "id": "1d640f48",
   "metadata": {},
   "outputs": [],
   "source": []
  }
 ],
 "metadata": {
  "kernelspec": {
   "display_name": "Python 3",
   "language": "python",
   "name": "python3"
  },
  "language_info": {
   "codemirror_mode": {
    "name": "ipython",
    "version": 3
   },
   "file_extension": ".py",
   "mimetype": "text/x-python",
   "name": "python",
   "nbconvert_exporter": "python",
   "pygments_lexer": "ipython3",
   "version": "3.9.5"
  }
 },
 "nbformat": 4,
 "nbformat_minor": 5
}
